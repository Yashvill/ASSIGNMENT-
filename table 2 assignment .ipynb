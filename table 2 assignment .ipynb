{
 "cells": [
  {
   "cell_type": "code",
   "execution_count": 1,
   "id": "43440ab0",
   "metadata": {},
   "outputs": [],
   "source": [
    "import pandas as pd"
   ]
  },
  {
   "cell_type": "code",
   "execution_count": 2,
   "id": "43f5c081",
   "metadata": {},
   "outputs": [],
   "source": [
    "import os"
   ]
  },
  {
   "cell_type": "code",
   "execution_count": 3,
   "id": "9637cc06",
   "metadata": {},
   "outputs": [],
   "source": [
    "patents_df = pd.read_stata(r\"C:\\Users\\majji\\Downloads\\EDA\\Patents_1975-2010.dta\")"
   ]
  },
  {
   "cell_type": "code",
   "execution_count": 4,
   "id": "b1b07d21",
   "metadata": {},
   "outputs": [],
   "source": [
    "citations_df1 = pd.read_stata(r\"C:\\Users\\majji\\Downloads\\EDA\\Citations_1975-1999.dta\")"
   ]
  },
  {
   "cell_type": "code",
   "execution_count": 5,
   "id": "b1ebc84a",
   "metadata": {},
   "outputs": [],
   "source": [
    "citations_df2 = pd.read_stata(r\"C:\\Users\\majji\\Downloads\\EDA\\Citations_2000-2010 part 1.dta\")"
   ]
  },
  {
   "cell_type": "code",
   "execution_count": 6,
   "id": "cbb5ec08",
   "metadata": {},
   "outputs": [],
   "source": [
    "citations_df3 = pd.read_stata(r\"C:\\Users\\majji\\Downloads\\EDA\\Citations_2000-2010 part 2.dta\")"
   ]
  },
  {
   "cell_type": "code",
   "execution_count": 7,
   "id": "88ee0bd7",
   "metadata": {},
   "outputs": [],
   "source": [
    "class_subclass_df = pd.read_stata(r\"C:\\Users\\majji\\Downloads\\EDA\\Class-Subclass_1975-2010.dta\")"
   ]
  },
  {
   "cell_type": "code",
   "execution_count": 8,
   "id": "eb210ed8",
   "metadata": {},
   "outputs": [],
   "source": [
    "inventors_part1 = pd.read_stata(r\"C:\\Users\\majji\\Downloads\\EDA\\Inventors_1975-2010 part 1.dta\")\n",
    "inventors_part2 = pd.read_stata(r\"C:\\Users\\majji\\Downloads\\EDA\\Inventors_1975-2010 part 2.dta\")"
   ]
  },
  {
   "cell_type": "code",
   "execution_count": 9,
   "id": "d9698c3c",
   "metadata": {},
   "outputs": [],
   "source": [
    "citations_df = pd.concat([citations_df1, citations_df2, citations_df3], ignore_index=True)"
   ]
  },
  {
   "cell_type": "code",
   "execution_count": 10,
   "id": "47ce4b5e",
   "metadata": {},
   "outputs": [],
   "source": [
    "citations_count = citations_df.groupby('patent')['citation'].count().reset_index()"
   ]
  },
  {
   "cell_type": "code",
   "execution_count": 11,
   "id": "265f76d2",
   "metadata": {},
   "outputs": [],
   "source": [
    "patents_citations_merged = pd.merge(patents_df, citations_count, left_on='patent', right_on='patent')"
   ]
  },
  {
   "cell_type": "code",
   "execution_count": 12,
   "id": "bd69149b",
   "metadata": {},
   "outputs": [],
   "source": [
    "final_merged_df = pd.merge(patents_citations_merged, class_subclass_df, on='patent')"
   ]
  },
  {
   "cell_type": "code",
   "execution_count": 13,
   "id": "82c82dfb",
   "metadata": {},
   "outputs": [
    {
     "name": "stdout",
     "output_type": "stream",
     "text": [
      "    patent kind  claims  apptype  appnum       gdate  gyear     appdate  \\\n",
      "0  3858241          6.0      NaN     NaN  1975-01-07   1975  1974-03-26   \n",
      "1  3858242          5.0      NaN     NaN  1975-01-07   1975  1973-04-16   \n",
      "2  3858242          5.0      NaN     NaN  1975-01-07   1975  1973-04-16   \n",
      "3  3858242          5.0      NaN     NaN  1975-01-07   1975  1973-04-16   \n",
      "4  3858242          5.0      NaN     NaN  1975-01-07   1975  1973-04-16   \n",
      "\n",
      "   appyear  citation  prim class subclass        n  \n",
      "0   1974.0         2     1     2      2.5  34753.0  \n",
      "1   1973.0         2     0     2      427  34753.0  \n",
      "2   1973.0         2     0     2      424  34753.0  \n",
      "3   1973.0         2     1     2       10  34753.0  \n",
      "4   1973.0         2     0     2      2.5  34753.0  \n"
     ]
    }
   ],
   "source": [
    "print(final_merged_df.head())"
   ]
  },
  {
   "cell_type": "code",
   "execution_count": 14,
   "id": "7bdbe4b4",
   "metadata": {},
   "outputs": [
    {
     "name": "stdout",
     "output_type": "stream",
     "text": [
      "patent            0\n",
      "kind              0\n",
      "claims         1691\n",
      "apptype     4951494\n",
      "appnum      4951494\n",
      "gdate             0\n",
      "gyear             0\n",
      "appdate           0\n",
      "appyear           2\n",
      "citation          0\n",
      "prim              0\n",
      "class             0\n",
      "subclass          0\n",
      "n                 0\n",
      "dtype: int64\n"
     ]
    }
   ],
   "source": [
    "# Check for missing values\n",
    "print(final_merged_df.isnull().sum())\n",
    "\n",
    "# Remove missing values\n",
    "final_merged_df.dropna(inplace=True)\n",
    "\n",
    "# Remove duplicates\n",
    "final_merged_df.drop_duplicates(inplace=True)\n",
    "\n",
    "# Remove outliers\n",
    "# (Perform outlier detection and removal if necessary)"
   ]
  },
  {
   "cell_type": "code",
   "execution_count": 15,
   "id": "d34a9901",
   "metadata": {},
   "outputs": [],
   "source": [
    "# Calculate citation counts\n",
    "citation_counts = final_merged_df.groupby(['patent', 'gyear']).size().reset_index(name='citation_count')\n",
    "\n",
    "# Calculate unique classes\n",
    "unique_classes = final_merged_df.groupby(['patent', 'gyear'])['class'].nunique().reset_index(name='unique_classes')\n",
    "\n",
    "# Calculate unique subclasses\n",
    "unique_subclasses = final_merged_df.groupby(['patent', 'gyear'])['subclass'].nunique().reset_index(name='unique_subclasses')"
   ]
  },
  {
   "cell_type": "code",
   "execution_count": 16,
   "id": "27fdb7d3",
   "metadata": {},
   "outputs": [],
   "source": [
    "table1_data = pd.merge(patents_df[['patent', 'gyear']], citation_counts, left_on=['patent', 'gyear'], right_on=['patent', 'gyear'])\n",
    "table1_data = pd.merge(table1_data, unique_classes, on=['patent', 'gyear'])\n",
    "table1_data = pd.merge(table1_data, unique_subclasses, on=['patent', 'gyear'])"
   ]
  },
  {
   "cell_type": "code",
   "execution_count": 17,
   "id": "1de44808",
   "metadata": {},
   "outputs": [],
   "source": [
    "import pandas as pd\n",
    "import numpy as np\n"
   ]
  },
  {
   "cell_type": "code",
   "execution_count": 18,
   "id": "c668b8bc",
   "metadata": {},
   "outputs": [],
   "source": [
    " #Step 1: Calculate subclass counts for each patent\n",
    "subclass_counts = final_merged_df.groupby(['patent', 'subclass']).size().reset_index(name='subclass_count')\n"
   ]
  },
  {
   "cell_type": "code",
   "execution_count": 19,
   "id": "6325c4ea",
   "metadata": {},
   "outputs": [],
   "source": [
    "# Step 2: Calculate class citations for each subclass\n",
    "class_citations = final_merged_df.groupby(['patent', 'subclass', 'class']).size().reset_index(name='class_citations')"
   ]
  },
  {
   "cell_type": "code",
   "execution_count": 20,
   "id": "ab450452",
   "metadata": {},
   "outputs": [],
   "source": [
    "# Step 3: Calculate originality scores for each patent\n",
    "originality_scores = {}\n",
    "\n",
    "# Create a dictionary to store subclass_sum and class_sum for each patent\n",
    "patent_stats = {}\n"
   ]
  },
  {
   "cell_type": "code",
   "execution_count": null,
   "id": "58b8c746",
   "metadata": {},
   "outputs": [],
   "source": [
    "# Calculate subclass_sum for each patent\n",
    "for patent, group in final_merged_df.groupby('patent'):\n",
    "    subclass_sum = subclass_counts[subclass_counts['patent'] == patent]['subclass_count'].sum()\n",
    "    patent_stats[patent] = {'subclass_sum': subclass_sum}\n",
    "\n",
    "# Calculate class_sum for each patent\n",
    "for patent, group in final_merged_df.groupby('patent'):\n",
    "    class_sum = class_citations[class_citations['patent'] == patent]['class_citations'].sum()\n",
    "    patent_stats[patent]['class_sum'] = class_sum\n",
    "\n",
    "# Calculate originality scores\n",
    "for patent, stats in patent_stats.items():\n",
    "    subclass_sum = stats['subclass_sum']\n",
    "    class_sum = stats['class_sum']\n",
    "    citations = final_merged_df[final_merged_df['patent'] == patent]['citation'].sum()\n",
    "    \n",
    "    if class_sum != 0:\n",
    "        originality_scores[patent] = subclass_sum / class_sum\n",
    "    else:\n",
    "        originality_scores[patent] = 0"
   ]
  },
  {
   "cell_type": "code",
   "execution_count": null,
   "id": "b71e2d69",
   "metadata": {},
   "outputs": [],
   "source": [
    "# Convert originality scores to DataFrame\n",
    "originality_df = pd.DataFrame(originality_scores.items(), columns=['Patent', 'Originality'])\n"
   ]
  },
  {
   "cell_type": "code",
   "execution_count": null,
   "id": "e260f5e9",
   "metadata": {},
   "outputs": [],
   "source": [
    "# Step 4: Calculate familiarity scores for each patent\n",
    "familiarity_scores = {}"
   ]
  },
  {
   "cell_type": "code",
   "execution_count": null,
   "id": "4032874a",
   "metadata": {},
   "outputs": [],
   "source": [
    "# Group by patent and calculate subclass counts\n",
    "subclass_counts_patent = subclass_counts.groupby('patent')\n",
    "\n",
    "for patent, group in final_merged_df.groupby('patent'):\n",
    "    subclass_counts_patent_patent = subclass_counts_patent.get_group(patent)\n",
    "    \n",
    "    # Calculate individual component familiarity for each subclass\n",
    "    subclass_counts_patent_patent['individual_familiarity'] = subclass_counts_patent_patent.apply(\n",
    "        lambda row: row['subclass_count'] / (final_merged_df['appdate'].max() - row['appdate']).days, axis=1)\n",
    "    \n",
    "    # Calculate average component familiarity for all subclasses\n",
    "    avg_familiarity = subclass_counts_patent_patent['individual_familiarity'].mean()\n",
    "    \n",
    "    familiarity_scores[patent] = avg_familiarity"
   ]
  },
  {
   "cell_type": "code",
   "execution_count": null,
   "id": "7862805c",
   "metadata": {},
   "outputs": [],
   "source": [
    "# Convert familiarity scores to DataFrame\n",
    "familiarity_df = pd.DataFrame(familiarity_scores.items(), columns=['Patent', 'Familiarity'])\n"
   ]
  },
  {
   "cell_type": "code",
   "execution_count": null,
   "id": "0218bbb5",
   "metadata": {},
   "outputs": [],
   "source": [
    "# Combine originality and familiarity DataFrames\n",
    "table2_data = pd.merge(originality_df, familiarity_df, on='Patent')\n"
   ]
  },
  {
   "cell_type": "code",
   "execution_count": null,
   "id": "b0e8ffe8",
   "metadata": {},
   "outputs": [],
   "source": [
    "# Merge with patents_df to add year information\n",
    "table2_data = pd.merge(table2_data, patents_df[['patent_number', 'gyear']], left_on='Patent', right_on='patent_number')"
   ]
  },
  {
   "cell_type": "code",
   "execution_count": null,
   "id": "0fb6c48e",
   "metadata": {},
   "outputs": [],
   "source": [
    "# Rename columns and select required columns\n",
    "table2_data = table2_data.rename(columns={'gyear': 'Year'}).drop(columns=['patent_number'])"
   ]
  },
  {
   "cell_type": "code",
   "execution_count": null,
   "id": "98bd95c8",
   "metadata": {},
   "outputs": [],
   "source": [
    "# Display Table 2\n",
    "print(table2_data)\n"
   ]
  }
 ],
 "metadata": {
  "kernelspec": {
   "display_name": "Python 3 (ipykernel)",
   "language": "python",
   "name": "python3"
  },
  "language_info": {
   "codemirror_mode": {
    "name": "ipython",
    "version": 3
   },
   "file_extension": ".py",
   "mimetype": "text/x-python",
   "name": "python",
   "nbconvert_exporter": "python",
   "pygments_lexer": "ipython3",
   "version": "3.9.7"
  }
 },
 "nbformat": 4,
 "nbformat_minor": 5
}
